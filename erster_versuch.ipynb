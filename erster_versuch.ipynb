{
  "nbformat": 4,
  "nbformat_minor": 0,
  "metadata": {
    "colab": {
      "provenance": [],
      "collapsed_sections": [],
      "authorship_tag": "ABX9TyPWl5NchHiA8EFKTzbNOc/J",
      "include_colab_link": true
    },
    "kernelspec": {
      "name": "python3",
      "display_name": "Python 3"
    },
    "language_info": {
      "name": "python"
    }
  },
  "cells": [
    {
      "cell_type": "markdown",
      "metadata": {
        "id": "view-in-github",
        "colab_type": "text"
      },
      "source": [
        "<a href=\"https://colab.research.google.com/github/109292/test_douda/blob/main/erster_versuch.ipynb\" target=\"_parent\"><img src=\"https://colab.research.google.com/assets/colab-badge.svg\" alt=\"Open In Colab\"/></a>"
      ]
    },
    {
      "cell_type": "markdown",
      "source": [
        "**Das ist ein erster Versuch**\n"
      ],
      "metadata": {
        "id": "93jspV3eEZ2j"
      }
    },
    {
      "cell_type": "code",
      "execution_count": null,
      "metadata": {
        "colab": {
          "base_uri": "https://localhost:8080/"
        },
        "id": "6qlhBPhuDc8a",
        "outputId": "57abb189-2db5-4329-8a21-34872942fb89"
      },
      "outputs": [
        {
          "output_type": "stream",
          "name": "stdout",
          "text": [
            "Hello World\n",
            "Hallo 1\n"
          ]
        }
      ],
      "source": [
        "print(\"Hello World\")\n",
        "print (\"Hallo 1\")"
      ]
    },
    {
      "cell_type": "code",
      "source": [
        "print(\"Hallo2\")\n"
      ],
      "metadata": {
        "colab": {
          "base_uri": "https://localhost:8080/"
        },
        "id": "-b9heeMQD9rD",
        "outputId": "7905d16b-23d6-48bb-9b31-baed2d839cec"
      },
      "execution_count": null,
      "outputs": [
        {
          "output_type": "stream",
          "name": "stdout",
          "text": [
            "Hallo2\n"
          ]
        }
      ]
    },
    {
      "cell_type": "code",
      "source": [
        "print(\"test3\")"
      ],
      "metadata": {
        "colab": {
          "base_uri": "https://localhost:8080/"
        },
        "id": "bXvGWUzQLeVH",
        "outputId": "039b96b6-7765-48a6-8039-a19eb51ed6a5"
      },
      "execution_count": 4,
      "outputs": [
        {
          "output_type": "stream",
          "name": "stdout",
          "text": [
            "test3\n"
          ]
        }
      ]
    },
    {
      "cell_type": "code",
      "source": [
        "from google.colab import files\n",
        "from google.colab import drive\n",
        "import pandas as pd\n",
        "import requests\n",
        "from io import StringIO"
      ],
      "metadata": {
        "id": "pWIJq479QWCE"
      },
      "execution_count": 5,
      "outputs": []
    },
    {
      "cell_type": "markdown",
      "source": [
        "Schreiben von CSV-Dateien"
      ],
      "metadata": {
        "id": "Y_4_zknmRS84"
      }
    },
    {
      "cell_type": "code",
      "source": [
        "url = 'https://data.statistik.gv.at/data/OGD_krebs_ext_KREBS_1.csv'\n",
        "df = pd.read_csv(url, sep=';')\n",
        "df.head()"
      ],
      "metadata": {
        "colab": {
          "base_uri": "https://localhost:8080/",
          "height": 204
        },
        "id": "l5msdTf9QdV3",
        "outputId": "834c1d4e-17ac-4fef-810f-0d0cec133f4e"
      },
      "execution_count": 8,
      "outputs": [
        {
          "output_type": "execute_result",
          "data": {
            "text/plain": [
              "   C-TUM_ICD10_3ST-0   C-BERJ-0 C-BUNDESLAND-0 C-KRE_GESCHLECHT-0  F-KRE\n",
              "0  TUM_ICD10_3ST-C00  BERJ-1983   BUNDESLAND-1       GESCHLECHT-1      2\n",
              "1  TUM_ICD10_3ST-C00  BERJ-1983   BUNDESLAND-2       GESCHLECHT-1      8\n",
              "2  TUM_ICD10_3ST-C00  BERJ-1983   BUNDESLAND-2       GESCHLECHT-2      2\n",
              "3  TUM_ICD10_3ST-C00  BERJ-1983   BUNDESLAND-3       GESCHLECHT-1      6\n",
              "4  TUM_ICD10_3ST-C00  BERJ-1983   BUNDESLAND-3       GESCHLECHT-2      2"
            ],
            "text/html": [
              "\n",
              "  <div id=\"df-6cc95455-95f0-4e5b-9499-b3bda11f3ae2\">\n",
              "    <div class=\"colab-df-container\">\n",
              "      <div>\n",
              "<style scoped>\n",
              "    .dataframe tbody tr th:only-of-type {\n",
              "        vertical-align: middle;\n",
              "    }\n",
              "\n",
              "    .dataframe tbody tr th {\n",
              "        vertical-align: top;\n",
              "    }\n",
              "\n",
              "    .dataframe thead th {\n",
              "        text-align: right;\n",
              "    }\n",
              "</style>\n",
              "<table border=\"1\" class=\"dataframe\">\n",
              "  <thead>\n",
              "    <tr style=\"text-align: right;\">\n",
              "      <th></th>\n",
              "      <th>C-TUM_ICD10_3ST-0</th>\n",
              "      <th>C-BERJ-0</th>\n",
              "      <th>C-BUNDESLAND-0</th>\n",
              "      <th>C-KRE_GESCHLECHT-0</th>\n",
              "      <th>F-KRE</th>\n",
              "    </tr>\n",
              "  </thead>\n",
              "  <tbody>\n",
              "    <tr>\n",
              "      <th>0</th>\n",
              "      <td>TUM_ICD10_3ST-C00</td>\n",
              "      <td>BERJ-1983</td>\n",
              "      <td>BUNDESLAND-1</td>\n",
              "      <td>GESCHLECHT-1</td>\n",
              "      <td>2</td>\n",
              "    </tr>\n",
              "    <tr>\n",
              "      <th>1</th>\n",
              "      <td>TUM_ICD10_3ST-C00</td>\n",
              "      <td>BERJ-1983</td>\n",
              "      <td>BUNDESLAND-2</td>\n",
              "      <td>GESCHLECHT-1</td>\n",
              "      <td>8</td>\n",
              "    </tr>\n",
              "    <tr>\n",
              "      <th>2</th>\n",
              "      <td>TUM_ICD10_3ST-C00</td>\n",
              "      <td>BERJ-1983</td>\n",
              "      <td>BUNDESLAND-2</td>\n",
              "      <td>GESCHLECHT-2</td>\n",
              "      <td>2</td>\n",
              "    </tr>\n",
              "    <tr>\n",
              "      <th>3</th>\n",
              "      <td>TUM_ICD10_3ST-C00</td>\n",
              "      <td>BERJ-1983</td>\n",
              "      <td>BUNDESLAND-3</td>\n",
              "      <td>GESCHLECHT-1</td>\n",
              "      <td>6</td>\n",
              "    </tr>\n",
              "    <tr>\n",
              "      <th>4</th>\n",
              "      <td>TUM_ICD10_3ST-C00</td>\n",
              "      <td>BERJ-1983</td>\n",
              "      <td>BUNDESLAND-3</td>\n",
              "      <td>GESCHLECHT-2</td>\n",
              "      <td>2</td>\n",
              "    </tr>\n",
              "  </tbody>\n",
              "</table>\n",
              "</div>\n",
              "      <button class=\"colab-df-convert\" onclick=\"convertToInteractive('df-6cc95455-95f0-4e5b-9499-b3bda11f3ae2')\"\n",
              "              title=\"Convert this dataframe to an interactive table.\"\n",
              "              style=\"display:none;\">\n",
              "        \n",
              "  <svg xmlns=\"http://www.w3.org/2000/svg\" height=\"24px\"viewBox=\"0 0 24 24\"\n",
              "       width=\"24px\">\n",
              "    <path d=\"M0 0h24v24H0V0z\" fill=\"none\"/>\n",
              "    <path d=\"M18.56 5.44l.94 2.06.94-2.06 2.06-.94-2.06-.94-.94-2.06-.94 2.06-2.06.94zm-11 1L8.5 8.5l.94-2.06 2.06-.94-2.06-.94L8.5 2.5l-.94 2.06-2.06.94zm10 10l.94 2.06.94-2.06 2.06-.94-2.06-.94-.94-2.06-.94 2.06-2.06.94z\"/><path d=\"M17.41 7.96l-1.37-1.37c-.4-.4-.92-.59-1.43-.59-.52 0-1.04.2-1.43.59L10.3 9.45l-7.72 7.72c-.78.78-.78 2.05 0 2.83L4 21.41c.39.39.9.59 1.41.59.51 0 1.02-.2 1.41-.59l7.78-7.78 2.81-2.81c.8-.78.8-2.07 0-2.86zM5.41 20L4 18.59l7.72-7.72 1.47 1.35L5.41 20z\"/>\n",
              "  </svg>\n",
              "      </button>\n",
              "      \n",
              "  <style>\n",
              "    .colab-df-container {\n",
              "      display:flex;\n",
              "      flex-wrap:wrap;\n",
              "      gap: 12px;\n",
              "    }\n",
              "\n",
              "    .colab-df-convert {\n",
              "      background-color: #E8F0FE;\n",
              "      border: none;\n",
              "      border-radius: 50%;\n",
              "      cursor: pointer;\n",
              "      display: none;\n",
              "      fill: #1967D2;\n",
              "      height: 32px;\n",
              "      padding: 0 0 0 0;\n",
              "      width: 32px;\n",
              "    }\n",
              "\n",
              "    .colab-df-convert:hover {\n",
              "      background-color: #E2EBFA;\n",
              "      box-shadow: 0px 1px 2px rgba(60, 64, 67, 0.3), 0px 1px 3px 1px rgba(60, 64, 67, 0.15);\n",
              "      fill: #174EA6;\n",
              "    }\n",
              "\n",
              "    [theme=dark] .colab-df-convert {\n",
              "      background-color: #3B4455;\n",
              "      fill: #D2E3FC;\n",
              "    }\n",
              "\n",
              "    [theme=dark] .colab-df-convert:hover {\n",
              "      background-color: #434B5C;\n",
              "      box-shadow: 0px 1px 3px 1px rgba(0, 0, 0, 0.15);\n",
              "      filter: drop-shadow(0px 1px 2px rgba(0, 0, 0, 0.3));\n",
              "      fill: #FFFFFF;\n",
              "    }\n",
              "  </style>\n",
              "\n",
              "      <script>\n",
              "        const buttonEl =\n",
              "          document.querySelector('#df-6cc95455-95f0-4e5b-9499-b3bda11f3ae2 button.colab-df-convert');\n",
              "        buttonEl.style.display =\n",
              "          google.colab.kernel.accessAllowed ? 'block' : 'none';\n",
              "\n",
              "        async function convertToInteractive(key) {\n",
              "          const element = document.querySelector('#df-6cc95455-95f0-4e5b-9499-b3bda11f3ae2');\n",
              "          const dataTable =\n",
              "            await google.colab.kernel.invokeFunction('convertToInteractive',\n",
              "                                                     [key], {});\n",
              "          if (!dataTable) return;\n",
              "\n",
              "          const docLinkHtml = 'Like what you see? Visit the ' +\n",
              "            '<a target=\"_blank\" href=https://colab.research.google.com/notebooks/data_table.ipynb>data table notebook</a>'\n",
              "            + ' to learn more about interactive tables.';\n",
              "          element.innerHTML = '';\n",
              "          dataTable['output_type'] = 'display_data';\n",
              "          await google.colab.output.renderOutput(dataTable, element);\n",
              "          const docLink = document.createElement('div');\n",
              "          docLink.innerHTML = docLinkHtml;\n",
              "          element.appendChild(docLink);\n",
              "        }\n",
              "      </script>\n",
              "    </div>\n",
              "  </div>\n",
              "  "
            ]
          },
          "metadata": {},
          "execution_count": 8
        }
      ]
    },
    {
      "cell_type": "markdown",
      "source": [
        "Datei von einer URL lesen - z.B. Krebsstatistik. \n",
        "Datei in Dataframe umwandeln"
      ],
      "metadata": {
        "id": "i0hCOVKERaMd"
      }
    },
    {
      "cell_type": "code",
      "source": [
        "url = 'https://info.gesundheitsministerium.gv.at/data/timeline-bbg.csv'\n",
        "df = pd.read_csv(url, sep=';')\n",
        "df.head()"
      ],
      "metadata": {
        "colab": {
          "base_uri": "https://localhost:8080/",
          "height": 353
        },
        "id": "sKSEDbQTR3Z0",
        "outputId": "99d1cd4d-4270-4c34-b935-833e77a19ff2"
      },
      "execution_count": 9,
      "outputs": [
        {
          "output_type": "execute_result",
          "data": {
            "text/plain": [
              "                       Datum  BundeslandID  Bevölkerung              Name  \\\n",
              "0  2021-01-09T23:59:59+01:00             0          NaN  Bundesverwaltung   \n",
              "1  2021-01-09T23:59:59+01:00             1     299235.0        Burgenland   \n",
              "2  2021-01-09T23:59:59+01:00             2     566166.0           Kärnten   \n",
              "3  2021-01-09T23:59:59+01:00             3    1708140.0  Niederösterreich   \n",
              "4  2021-01-09T23:59:59+01:00             4    1512226.0    Oberösterreich   \n",
              "\n",
              "   Auslieferungen  AuslieferungenPro100  Bestellungen  BestellungenPro100  \n",
              "0               0                   NaN             0                 NaN  \n",
              "1             355              0.118636          3995            1.335071  \n",
              "2             305              0.053871          6830            1.206360  \n",
              "3            9042              0.529348         20070            1.174962  \n",
              "4             520              0.034386         21395            1.414802  "
            ],
            "text/html": [
              "\n",
              "  <div id=\"df-9a1f16b8-06be-406b-b2cf-a8105de5ca80\">\n",
              "    <div class=\"colab-df-container\">\n",
              "      <div>\n",
              "<style scoped>\n",
              "    .dataframe tbody tr th:only-of-type {\n",
              "        vertical-align: middle;\n",
              "    }\n",
              "\n",
              "    .dataframe tbody tr th {\n",
              "        vertical-align: top;\n",
              "    }\n",
              "\n",
              "    .dataframe thead th {\n",
              "        text-align: right;\n",
              "    }\n",
              "</style>\n",
              "<table border=\"1\" class=\"dataframe\">\n",
              "  <thead>\n",
              "    <tr style=\"text-align: right;\">\n",
              "      <th></th>\n",
              "      <th>Datum</th>\n",
              "      <th>BundeslandID</th>\n",
              "      <th>Bevölkerung</th>\n",
              "      <th>Name</th>\n",
              "      <th>Auslieferungen</th>\n",
              "      <th>AuslieferungenPro100</th>\n",
              "      <th>Bestellungen</th>\n",
              "      <th>BestellungenPro100</th>\n",
              "    </tr>\n",
              "  </thead>\n",
              "  <tbody>\n",
              "    <tr>\n",
              "      <th>0</th>\n",
              "      <td>2021-01-09T23:59:59+01:00</td>\n",
              "      <td>0</td>\n",
              "      <td>NaN</td>\n",
              "      <td>Bundesverwaltung</td>\n",
              "      <td>0</td>\n",
              "      <td>NaN</td>\n",
              "      <td>0</td>\n",
              "      <td>NaN</td>\n",
              "    </tr>\n",
              "    <tr>\n",
              "      <th>1</th>\n",
              "      <td>2021-01-09T23:59:59+01:00</td>\n",
              "      <td>1</td>\n",
              "      <td>299235.0</td>\n",
              "      <td>Burgenland</td>\n",
              "      <td>355</td>\n",
              "      <td>0.118636</td>\n",
              "      <td>3995</td>\n",
              "      <td>1.335071</td>\n",
              "    </tr>\n",
              "    <tr>\n",
              "      <th>2</th>\n",
              "      <td>2021-01-09T23:59:59+01:00</td>\n",
              "      <td>2</td>\n",
              "      <td>566166.0</td>\n",
              "      <td>Kärnten</td>\n",
              "      <td>305</td>\n",
              "      <td>0.053871</td>\n",
              "      <td>6830</td>\n",
              "      <td>1.206360</td>\n",
              "    </tr>\n",
              "    <tr>\n",
              "      <th>3</th>\n",
              "      <td>2021-01-09T23:59:59+01:00</td>\n",
              "      <td>3</td>\n",
              "      <td>1708140.0</td>\n",
              "      <td>Niederösterreich</td>\n",
              "      <td>9042</td>\n",
              "      <td>0.529348</td>\n",
              "      <td>20070</td>\n",
              "      <td>1.174962</td>\n",
              "    </tr>\n",
              "    <tr>\n",
              "      <th>4</th>\n",
              "      <td>2021-01-09T23:59:59+01:00</td>\n",
              "      <td>4</td>\n",
              "      <td>1512226.0</td>\n",
              "      <td>Oberösterreich</td>\n",
              "      <td>520</td>\n",
              "      <td>0.034386</td>\n",
              "      <td>21395</td>\n",
              "      <td>1.414802</td>\n",
              "    </tr>\n",
              "  </tbody>\n",
              "</table>\n",
              "</div>\n",
              "      <button class=\"colab-df-convert\" onclick=\"convertToInteractive('df-9a1f16b8-06be-406b-b2cf-a8105de5ca80')\"\n",
              "              title=\"Convert this dataframe to an interactive table.\"\n",
              "              style=\"display:none;\">\n",
              "        \n",
              "  <svg xmlns=\"http://www.w3.org/2000/svg\" height=\"24px\"viewBox=\"0 0 24 24\"\n",
              "       width=\"24px\">\n",
              "    <path d=\"M0 0h24v24H0V0z\" fill=\"none\"/>\n",
              "    <path d=\"M18.56 5.44l.94 2.06.94-2.06 2.06-.94-2.06-.94-.94-2.06-.94 2.06-2.06.94zm-11 1L8.5 8.5l.94-2.06 2.06-.94-2.06-.94L8.5 2.5l-.94 2.06-2.06.94zm10 10l.94 2.06.94-2.06 2.06-.94-2.06-.94-.94-2.06-.94 2.06-2.06.94z\"/><path d=\"M17.41 7.96l-1.37-1.37c-.4-.4-.92-.59-1.43-.59-.52 0-1.04.2-1.43.59L10.3 9.45l-7.72 7.72c-.78.78-.78 2.05 0 2.83L4 21.41c.39.39.9.59 1.41.59.51 0 1.02-.2 1.41-.59l7.78-7.78 2.81-2.81c.8-.78.8-2.07 0-2.86zM5.41 20L4 18.59l7.72-7.72 1.47 1.35L5.41 20z\"/>\n",
              "  </svg>\n",
              "      </button>\n",
              "      \n",
              "  <style>\n",
              "    .colab-df-container {\n",
              "      display:flex;\n",
              "      flex-wrap:wrap;\n",
              "      gap: 12px;\n",
              "    }\n",
              "\n",
              "    .colab-df-convert {\n",
              "      background-color: #E8F0FE;\n",
              "      border: none;\n",
              "      border-radius: 50%;\n",
              "      cursor: pointer;\n",
              "      display: none;\n",
              "      fill: #1967D2;\n",
              "      height: 32px;\n",
              "      padding: 0 0 0 0;\n",
              "      width: 32px;\n",
              "    }\n",
              "\n",
              "    .colab-df-convert:hover {\n",
              "      background-color: #E2EBFA;\n",
              "      box-shadow: 0px 1px 2px rgba(60, 64, 67, 0.3), 0px 1px 3px 1px rgba(60, 64, 67, 0.15);\n",
              "      fill: #174EA6;\n",
              "    }\n",
              "\n",
              "    [theme=dark] .colab-df-convert {\n",
              "      background-color: #3B4455;\n",
              "      fill: #D2E3FC;\n",
              "    }\n",
              "\n",
              "    [theme=dark] .colab-df-convert:hover {\n",
              "      background-color: #434B5C;\n",
              "      box-shadow: 0px 1px 3px 1px rgba(0, 0, 0, 0.15);\n",
              "      filter: drop-shadow(0px 1px 2px rgba(0, 0, 0, 0.3));\n",
              "      fill: #FFFFFF;\n",
              "    }\n",
              "  </style>\n",
              "\n",
              "      <script>\n",
              "        const buttonEl =\n",
              "          document.querySelector('#df-9a1f16b8-06be-406b-b2cf-a8105de5ca80 button.colab-df-convert');\n",
              "        buttonEl.style.display =\n",
              "          google.colab.kernel.accessAllowed ? 'block' : 'none';\n",
              "\n",
              "        async function convertToInteractive(key) {\n",
              "          const element = document.querySelector('#df-9a1f16b8-06be-406b-b2cf-a8105de5ca80');\n",
              "          const dataTable =\n",
              "            await google.colab.kernel.invokeFunction('convertToInteractive',\n",
              "                                                     [key], {});\n",
              "          if (!dataTable) return;\n",
              "\n",
              "          const docLinkHtml = 'Like what you see? Visit the ' +\n",
              "            '<a target=\"_blank\" href=https://colab.research.google.com/notebooks/data_table.ipynb>data table notebook</a>'\n",
              "            + ' to learn more about interactive tables.';\n",
              "          element.innerHTML = '';\n",
              "          dataTable['output_type'] = 'display_data';\n",
              "          await google.colab.output.renderOutput(dataTable, element);\n",
              "          const docLink = document.createElement('div');\n",
              "          docLink.innerHTML = docLinkHtml;\n",
              "          element.appendChild(docLink);\n",
              "        }\n",
              "      </script>\n",
              "    </div>\n",
              "  </div>\n",
              "  "
            ]
          },
          "metadata": {},
          "execution_count": 9
        }
      ]
    },
    {
      "cell_type": "code",
      "source": [],
      "metadata": {
        "id": "yx4bBxW_SXfa"
      },
      "execution_count": null,
      "outputs": []
    }
  ]
}