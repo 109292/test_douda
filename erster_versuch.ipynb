{
  "nbformat": 4,
  "nbformat_minor": 0,
  "metadata": {
    "colab": {
      "provenance": [],
      "collapsed_sections": [],
      "authorship_tag": "ABX9TyMenMaGCtWXehgEYsfL6eg6",
      "include_colab_link": true
    },
    "kernelspec": {
      "name": "python3",
      "display_name": "Python 3"
    },
    "language_info": {
      "name": "python"
    }
  },
  "cells": [
    {
      "cell_type": "markdown",
      "metadata": {
        "id": "view-in-github",
        "colab_type": "text"
      },
      "source": [
        "<a href=\"https://colab.research.google.com/github/109292/test_douda/blob/main/erster_versuch.ipynb\" target=\"_parent\"><img src=\"https://colab.research.google.com/assets/colab-badge.svg\" alt=\"Open In Colab\"/></a>"
      ]
    },
    {
      "cell_type": "markdown",
      "source": [
        "**Das ist ein erster Versuch**\n"
      ],
      "metadata": {
        "id": "93jspV3eEZ2j"
      }
    },
    {
      "cell_type": "code",
      "execution_count": null,
      "metadata": {
        "colab": {
          "base_uri": "https://localhost:8080/"
        },
        "id": "6qlhBPhuDc8a",
        "outputId": "57abb189-2db5-4329-8a21-34872942fb89"
      },
      "outputs": [
        {
          "output_type": "stream",
          "name": "stdout",
          "text": [
            "Hello World\n",
            "Hallo 1\n"
          ]
        }
      ],
      "source": [
        "print(\"Hello World\")\n",
        "print (\"Hallo 1\")"
      ]
    },
    {
      "cell_type": "code",
      "source": [
        "print(\"Hallo2\")\n"
      ],
      "metadata": {
        "colab": {
          "base_uri": "https://localhost:8080/"
        },
        "id": "-b9heeMQD9rD",
        "outputId": "7905d16b-23d6-48bb-9b31-baed2d839cec"
      },
      "execution_count": null,
      "outputs": [
        {
          "output_type": "stream",
          "name": "stdout",
          "text": [
            "Hallo2\n"
          ]
        }
      ]
    }
  ]
}